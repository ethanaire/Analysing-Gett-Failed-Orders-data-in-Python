{
 "cells": [
  {
   "attachments": {},
   "cell_type": "markdown",
   "metadata": {},
   "source": [
    "# Insights from Failed Orders\n",
    "---"
   ]
  },
  {
   "cell_type": "markdown",
   "metadata": {},
   "source": [
    "## Table of Contents\n",
    "<ul>\n",
    "<li><a href=\"#questions\">Questions</a></li>\n",
    "<li><a href=\"#datadescription\">Data Description</a></li>\n",
    "<li><a href=\"#EDA\">Exploratory Data Analysis</a></li>\n",
    "<li><a href=\"#datainsights\">Data Insights</a></li>\n",
    "    <ol>\n",
    "        <li><a href=\"#Q1\">Question 1</a></li>\n",
    "        <li><a href=\"#Q2\">Question 2</a></li>\n",
    "        <li><a href=\"#Q3\">Question 3</a></li>\n",
    "        <li><a href=\"#Q4\">Question 4</a></li>\n",
    "    </ol>\n",
    "<li><a href=\"#conclusions\">Conclusions</a></li>\n",
    "</ul>\n",
    "\n",
    "---"
   ]
  },
  {
   "attachments": {},
   "cell_type": "markdown",
   "metadata": {},
   "source": [
    "<a id=\"questions\"></a>\n",
    "## Questions"
   ]
  },
  {
   "cell_type": "markdown",
   "metadata": {},
   "source": [
    "1. Build up distribution of orders according to reasons for failure: cancellations before and after driver assignment, and reasons for order rejection. Analyse the resulting plot. Which category has the highest number of orders?\n",
    "\n",
    "2. Plot the distribution of failed orders by hours. Is there a trend that certain hours have an abnormally high proportion of one category or another? What hours are the biggest fails? How can this be explained?\n",
    "\n",
    "3. Plot the average time to cancellation with and without driver, by the hour. If there are any outliers in the data, it would be better to remove them. Can we draw any conclusions from this plot?\n",
    "\n",
    "4. Plot the distribution of average ETA by hours. How can this plot be explained?\n",
    "\n",
    "---"
   ]
  },
  {
   "attachments": {},
   "cell_type": "markdown",
   "metadata": {},
   "source": [
    "<a id=\"datadescription\"></a>\n",
    "## Data Description"
   ]
  },
  {
   "cell_type": "markdown",
   "metadata": {},
   "source": [
    "2 datasets: `data_orders` and `data_offers` being stored in CSV format are provided. \n",
    "\n",
    "The dataset `data_orders` contain:\n",
    "- `order_datetime` - time of the order\n",
    "- `origin_longtitude` - longtitude of the order\n",
    "- `origin_latitude` - latitude of the order\n",
    "- `m_order_eta` - time before order arrival\n",
    "- `order_gk` - order number\n",
    "- `order_status_key` - status of the order\n",
    "    - `4` - cancelled by clinet, \n",
    "    - `9` - cancelled by system (a reject)\n",
    "- `is_driver_assigned_key` - whether a driver has been assigned\n",
    "- `cancellation_time_in_seconds` - how many seconds passed before cancellation\n",
    "\n",
    "The dataset `data_offers` contain:\n",
    "- `order_gk` - order number, associated with the same column from the `orders` dataset\n",
    "- `origin_id` - ID of an offer\n",
    "\n",
    "---"
   ]
  },
  {
   "attachments": {},
   "cell_type": "markdown",
   "metadata": {},
   "source": [
    "<a id=\"EDA\"></a>\n",
    "## Exploratory Data Analysis"
   ]
  },
  {
   "cell_type": "code",
   "execution_count": 1,
   "metadata": {},
   "outputs": [],
   "source": [
    "# Impoer libraries\n",
    "import pandas as pd\n",
    "import numpy as np"
   ]
  },
  {
   "cell_type": "code",
   "execution_count": null,
   "metadata": {},
   "outputs": [],
   "source": [
    "# Import Orders data\n",
    "orders = pd.read_csv(filepath_or_buffer=\"datasets/data_orders.csv\")"
   ]
  },
  {
   "cell_type": "code",
   "execution_count": 3,
   "metadata": {},
   "outputs": [
    {
     "data": {
      "text/html": [
       "<div>\n",
       "<style scoped>\n",
       "    .dataframe tbody tr th:only-of-type {\n",
       "        vertical-align: middle;\n",
       "    }\n",
       "\n",
       "    .dataframe tbody tr th {\n",
       "        vertical-align: top;\n",
       "    }\n",
       "\n",
       "    .dataframe thead th {\n",
       "        text-align: right;\n",
       "    }\n",
       "</style>\n",
       "<table border=\"1\" class=\"dataframe\">\n",
       "  <thead>\n",
       "    <tr style=\"text-align: right;\">\n",
       "      <th></th>\n",
       "      <th>order_datetime</th>\n",
       "      <th>origin_longitude</th>\n",
       "      <th>origin_latitude</th>\n",
       "      <th>m_order_eta</th>\n",
       "      <th>order_gk</th>\n",
       "      <th>order_status_key</th>\n",
       "      <th>is_driver_assigned_key</th>\n",
       "      <th>cancellations_time_in_seconds</th>\n",
       "    </tr>\n",
       "  </thead>\n",
       "  <tbody>\n",
       "    <tr>\n",
       "      <th>0</th>\n",
       "      <td>18:08:07</td>\n",
       "      <td>-0.978916</td>\n",
       "      <td>51.456173</td>\n",
       "      <td>60.0</td>\n",
       "      <td>3000583041974</td>\n",
       "      <td>4</td>\n",
       "      <td>1</td>\n",
       "      <td>198.0</td>\n",
       "    </tr>\n",
       "    <tr>\n",
       "      <th>1</th>\n",
       "      <td>20:57:32</td>\n",
       "      <td>-0.950385</td>\n",
       "      <td>51.456843</td>\n",
       "      <td>NaN</td>\n",
       "      <td>3000583116437</td>\n",
       "      <td>4</td>\n",
       "      <td>0</td>\n",
       "      <td>128.0</td>\n",
       "    </tr>\n",
       "    <tr>\n",
       "      <th>2</th>\n",
       "      <td>12:07:50</td>\n",
       "      <td>-0.969520</td>\n",
       "      <td>51.455544</td>\n",
       "      <td>477.0</td>\n",
       "      <td>3000582891479</td>\n",
       "      <td>4</td>\n",
       "      <td>1</td>\n",
       "      <td>46.0</td>\n",
       "    </tr>\n",
       "    <tr>\n",
       "      <th>3</th>\n",
       "      <td>13:50:20</td>\n",
       "      <td>-1.054671</td>\n",
       "      <td>51.460544</td>\n",
       "      <td>658.0</td>\n",
       "      <td>3000582941169</td>\n",
       "      <td>4</td>\n",
       "      <td>1</td>\n",
       "      <td>62.0</td>\n",
       "    </tr>\n",
       "    <tr>\n",
       "      <th>4</th>\n",
       "      <td>21:24:45</td>\n",
       "      <td>-0.967605</td>\n",
       "      <td>51.458236</td>\n",
       "      <td>NaN</td>\n",
       "      <td>3000583140877</td>\n",
       "      <td>9</td>\n",
       "      <td>0</td>\n",
       "      <td>NaN</td>\n",
       "    </tr>\n",
       "  </tbody>\n",
       "</table>\n",
       "</div>"
      ],
      "text/plain": [
       "  order_datetime  origin_longitude  origin_latitude  m_order_eta  \\\n",
       "0       18:08:07         -0.978916        51.456173         60.0   \n",
       "1       20:57:32         -0.950385        51.456843          NaN   \n",
       "2       12:07:50         -0.969520        51.455544        477.0   \n",
       "3       13:50:20         -1.054671        51.460544        658.0   \n",
       "4       21:24:45         -0.967605        51.458236          NaN   \n",
       "\n",
       "        order_gk  order_status_key  is_driver_assigned_key  \\\n",
       "0  3000583041974                 4                       1   \n",
       "1  3000583116437                 4                       0   \n",
       "2  3000582891479                 4                       1   \n",
       "3  3000582941169                 4                       1   \n",
       "4  3000583140877                 9                       0   \n",
       "\n",
       "   cancellations_time_in_seconds  \n",
       "0                          198.0  \n",
       "1                          128.0  \n",
       "2                           46.0  \n",
       "3                           62.0  \n",
       "4                            NaN  "
      ]
     },
     "execution_count": 3,
     "metadata": {},
     "output_type": "execute_result"
    }
   ],
   "source": [
    "# Display the first 5 rows of the DataFrame\n",
    "orders.head()"
   ]
  },
  {
   "cell_type": "code",
   "execution_count": null,
   "metadata": {},
   "outputs": [
    {
     "data": {
      "text/plain": [
       "(10716, 8)"
      ]
     },
     "execution_count": 4,
     "metadata": {},
     "output_type": "execute_result"
    }
   ],
   "source": [
    "# rows + columns\n",
    "orders.shape"
   ]
  },
  {
   "cell_type": "code",
   "execution_count": 6,
   "metadata": {},
   "outputs": [
    {
     "name": "stdout",
     "output_type": "stream",
     "text": [
      "<class 'pandas.core.frame.DataFrame'>\n",
      "RangeIndex: 10716 entries, 0 to 10715\n",
      "Data columns (total 8 columns):\n",
      " #   Column                         Non-Null Count  Dtype  \n",
      "---  ------                         --------------  -----  \n",
      " 0   order_datetime                 10716 non-null  object \n",
      " 1   origin_longitude               10716 non-null  float64\n",
      " 2   origin_latitude                10716 non-null  float64\n",
      " 3   m_order_eta                    2814 non-null   float64\n",
      " 4   order_gk                       10716 non-null  int64  \n",
      " 5   order_status_key               10716 non-null  int64  \n",
      " 6   is_driver_assigned_key         10716 non-null  int64  \n",
      " 7   cancellations_time_in_seconds  7307 non-null   float64\n",
      "dtypes: float64(4), int64(3), object(1)\n",
      "memory usage: 669.9+ KB\n"
     ]
    }
   ],
   "source": [
    "# Basic information about the DataFrame\n",
    "orders.info()"
   ]
  },
  {
   "cell_type": "code",
   "execution_count": 8,
   "metadata": {},
   "outputs": [],
   "source": [
    "# Import Offers data\n",
    "offers = pd.read_csv(filepath_or_buffer=\"datasets/data_offers.csv\")"
   ]
  },
  {
   "cell_type": "code",
   "execution_count": 9,
   "metadata": {},
   "outputs": [
    {
     "data": {
      "text/html": [
       "<div>\n",
       "<style scoped>\n",
       "    .dataframe tbody tr th:only-of-type {\n",
       "        vertical-align: middle;\n",
       "    }\n",
       "\n",
       "    .dataframe tbody tr th {\n",
       "        vertical-align: top;\n",
       "    }\n",
       "\n",
       "    .dataframe thead th {\n",
       "        text-align: right;\n",
       "    }\n",
       "</style>\n",
       "<table border=\"1\" class=\"dataframe\">\n",
       "  <thead>\n",
       "    <tr style=\"text-align: right;\">\n",
       "      <th></th>\n",
       "      <th>order_gk</th>\n",
       "      <th>offer_id</th>\n",
       "    </tr>\n",
       "  </thead>\n",
       "  <tbody>\n",
       "    <tr>\n",
       "      <th>0</th>\n",
       "      <td>3000579625629</td>\n",
       "      <td>300050936206</td>\n",
       "    </tr>\n",
       "    <tr>\n",
       "      <th>1</th>\n",
       "      <td>3000627306450</td>\n",
       "      <td>300052064651</td>\n",
       "    </tr>\n",
       "    <tr>\n",
       "      <th>2</th>\n",
       "      <td>3000632920686</td>\n",
       "      <td>300052408812</td>\n",
       "    </tr>\n",
       "    <tr>\n",
       "      <th>3</th>\n",
       "      <td>3000632771725</td>\n",
       "      <td>300052393030</td>\n",
       "    </tr>\n",
       "    <tr>\n",
       "      <th>4</th>\n",
       "      <td>3000583467642</td>\n",
       "      <td>300051001196</td>\n",
       "    </tr>\n",
       "  </tbody>\n",
       "</table>\n",
       "</div>"
      ],
      "text/plain": [
       "        order_gk      offer_id\n",
       "0  3000579625629  300050936206\n",
       "1  3000627306450  300052064651\n",
       "2  3000632920686  300052408812\n",
       "3  3000632771725  300052393030\n",
       "4  3000583467642  300051001196"
      ]
     },
     "execution_count": 9,
     "metadata": {},
     "output_type": "execute_result"
    }
   ],
   "source": [
    "# Display the first 5 rows of the DataFrame\n",
    "offers.head()"
   ]
  },
  {
   "cell_type": "code",
   "execution_count": 10,
   "metadata": {},
   "outputs": [
    {
     "data": {
      "text/plain": [
       "(334363, 2)"
      ]
     },
     "execution_count": 10,
     "metadata": {},
     "output_type": "execute_result"
    }
   ],
   "source": [
    "# rows + columns\n",
    "offers.shape"
   ]
  },
  {
   "cell_type": "code",
   "execution_count": 11,
   "metadata": {},
   "outputs": [
    {
     "name": "stdout",
     "output_type": "stream",
     "text": [
      "<class 'pandas.core.frame.DataFrame'>\n",
      "RangeIndex: 334363 entries, 0 to 334362\n",
      "Data columns (total 2 columns):\n",
      " #   Column    Non-Null Count   Dtype\n",
      "---  ------    --------------   -----\n",
      " 0   order_gk  334363 non-null  int64\n",
      " 1   offer_id  334363 non-null  int64\n",
      "dtypes: int64(2)\n",
      "memory usage: 5.1 MB\n"
     ]
    }
   ],
   "source": [
    "# Basic information about the DataFrame\n",
    "offers.info()"
   ]
  },
  {
   "attachments": {},
   "cell_type": "markdown",
   "metadata": {},
   "source": [
    "As both datasets contain `orders` column in common, we will merge them into one DataFrame for data manipulation. "
   ]
  },
  {
   "cell_type": "code",
   "execution_count": null,
   "metadata": {},
   "outputs": [],
   "source": [
    "# Merge the two DataFrames on the 'order_gk' column\n",
    "df = orders.merge(right=offers, how='inner', on='order_gk')"
   ]
  },
  {
   "cell_type": "code",
   "execution_count": 13,
   "metadata": {},
   "outputs": [
    {
     "data": {
      "text/html": [
       "<div>\n",
       "<style scoped>\n",
       "    .dataframe tbody tr th:only-of-type {\n",
       "        vertical-align: middle;\n",
       "    }\n",
       "\n",
       "    .dataframe tbody tr th {\n",
       "        vertical-align: top;\n",
       "    }\n",
       "\n",
       "    .dataframe thead th {\n",
       "        text-align: right;\n",
       "    }\n",
       "</style>\n",
       "<table border=\"1\" class=\"dataframe\">\n",
       "  <thead>\n",
       "    <tr style=\"text-align: right;\">\n",
       "      <th></th>\n",
       "      <th>order_datetime</th>\n",
       "      <th>origin_longitude</th>\n",
       "      <th>origin_latitude</th>\n",
       "      <th>m_order_eta</th>\n",
       "      <th>order_gk</th>\n",
       "      <th>order_status_key</th>\n",
       "      <th>is_driver_assigned_key</th>\n",
       "      <th>cancellations_time_in_seconds</th>\n",
       "      <th>offer_id</th>\n",
       "    </tr>\n",
       "  </thead>\n",
       "  <tbody>\n",
       "    <tr>\n",
       "      <th>0</th>\n",
       "      <td>18:08:07</td>\n",
       "      <td>-0.978916</td>\n",
       "      <td>51.456173</td>\n",
       "      <td>60.0</td>\n",
       "      <td>3000583041974</td>\n",
       "      <td>4</td>\n",
       "      <td>1</td>\n",
       "      <td>198.0</td>\n",
       "      <td>300050983403</td>\n",
       "    </tr>\n",
       "    <tr>\n",
       "      <th>1</th>\n",
       "      <td>20:57:32</td>\n",
       "      <td>-0.950385</td>\n",
       "      <td>51.456843</td>\n",
       "      <td>NaN</td>\n",
       "      <td>3000583116437</td>\n",
       "      <td>4</td>\n",
       "      <td>0</td>\n",
       "      <td>128.0</td>\n",
       "      <td>300050986179</td>\n",
       "    </tr>\n",
       "    <tr>\n",
       "      <th>2</th>\n",
       "      <td>20:57:32</td>\n",
       "      <td>-0.950385</td>\n",
       "      <td>51.456843</td>\n",
       "      <td>NaN</td>\n",
       "      <td>3000583116437</td>\n",
       "      <td>4</td>\n",
       "      <td>0</td>\n",
       "      <td>128.0</td>\n",
       "      <td>300050986174</td>\n",
       "    </tr>\n",
       "    <tr>\n",
       "      <th>3</th>\n",
       "      <td>20:57:32</td>\n",
       "      <td>-0.950385</td>\n",
       "      <td>51.456843</td>\n",
       "      <td>NaN</td>\n",
       "      <td>3000583116437</td>\n",
       "      <td>4</td>\n",
       "      <td>0</td>\n",
       "      <td>128.0</td>\n",
       "      <td>300050986180</td>\n",
       "    </tr>\n",
       "    <tr>\n",
       "      <th>4</th>\n",
       "      <td>12:07:50</td>\n",
       "      <td>-0.969520</td>\n",
       "      <td>51.455544</td>\n",
       "      <td>477.0</td>\n",
       "      <td>3000582891479</td>\n",
       "      <td>4</td>\n",
       "      <td>1</td>\n",
       "      <td>46.0</td>\n",
       "      <td>300050976275</td>\n",
       "    </tr>\n",
       "  </tbody>\n",
       "</table>\n",
       "</div>"
      ],
      "text/plain": [
       "  order_datetime  origin_longitude  origin_latitude  m_order_eta  \\\n",
       "0       18:08:07         -0.978916        51.456173         60.0   \n",
       "1       20:57:32         -0.950385        51.456843          NaN   \n",
       "2       20:57:32         -0.950385        51.456843          NaN   \n",
       "3       20:57:32         -0.950385        51.456843          NaN   \n",
       "4       12:07:50         -0.969520        51.455544        477.0   \n",
       "\n",
       "        order_gk  order_status_key  is_driver_assigned_key  \\\n",
       "0  3000583041974                 4                       1   \n",
       "1  3000583116437                 4                       0   \n",
       "2  3000583116437                 4                       0   \n",
       "3  3000583116437                 4                       0   \n",
       "4  3000582891479                 4                       1   \n",
       "\n",
       "   cancellations_time_in_seconds      offer_id  \n",
       "0                          198.0  300050983403  \n",
       "1                          128.0  300050986179  \n",
       "2                          128.0  300050986174  \n",
       "3                          128.0  300050986180  \n",
       "4                           46.0  300050976275  "
      ]
     },
     "execution_count": 13,
     "metadata": {},
     "output_type": "execute_result"
    }
   ],
   "source": [
    "# Display the first 5 rows of the merged DataFrame\n",
    "df.head()"
   ]
  },
  {
   "cell_type": "code",
   "execution_count": 14,
   "metadata": {},
   "outputs": [],
   "source": [
    "# Rename the 'order_datetime' column to 'order_time'\n",
    "df.rename(columns={'order_datetime': 'order_time'},inplace=True)"
   ]
  },
  {
   "attachments": {},
   "cell_type": "markdown",
   "metadata": {},
   "source": [
    "The current values in two columns `order_status_key` and `is_driver_assigned_key` are not informative enough as they are in the forms of keys that relate to internal description. \n",
    "\n",
    "Therefore, the quality of the combined dataframe can be improved by mapping the current values with more meaningful ones such as `1` with `Yes` and `0` with `No`."
   ]
  },
  {
   "cell_type": "code",
   "execution_count": 15,
   "metadata": {},
   "outputs": [],
   "source": [
    "# Encode nominal categorical variables using one-hot encoding\n",
    "df[\"is_driver_assigned\"] = np.where(df[\"is_driver_assigned_key\"] == 1, \"Yes\", \"No\")\n",
    "df[\"order_status\"] = np.where(df[\"order_status_key\"] == 4, \"Client Cancelled\", \"System Reject\")"
   ]
  },
  {
   "cell_type": "code",
   "execution_count": 16,
   "metadata": {},
   "outputs": [],
   "source": [
    "# Drop the original key columns\n",
    "df.drop(columns=[\"is_driver_assigned_key\", \"order_status_key\"], inplace=True)"
   ]
  },
  {
   "cell_type": "code",
   "execution_count": 17,
   "metadata": {},
   "outputs": [
    {
     "data": {
      "text/html": [
       "<div>\n",
       "<style scoped>\n",
       "    .dataframe tbody tr th:only-of-type {\n",
       "        vertical-align: middle;\n",
       "    }\n",
       "\n",
       "    .dataframe tbody tr th {\n",
       "        vertical-align: top;\n",
       "    }\n",
       "\n",
       "    .dataframe thead th {\n",
       "        text-align: right;\n",
       "    }\n",
       "</style>\n",
       "<table border=\"1\" class=\"dataframe\">\n",
       "  <thead>\n",
       "    <tr style=\"text-align: right;\">\n",
       "      <th></th>\n",
       "      <th>order_time</th>\n",
       "      <th>origin_longitude</th>\n",
       "      <th>origin_latitude</th>\n",
       "      <th>m_order_eta</th>\n",
       "      <th>order_gk</th>\n",
       "      <th>cancellations_time_in_seconds</th>\n",
       "      <th>offer_id</th>\n",
       "      <th>is_driver_assigned</th>\n",
       "      <th>order_status</th>\n",
       "    </tr>\n",
       "  </thead>\n",
       "  <tbody>\n",
       "    <tr>\n",
       "      <th>0</th>\n",
       "      <td>18:08:07</td>\n",
       "      <td>-0.978916</td>\n",
       "      <td>51.456173</td>\n",
       "      <td>60.0</td>\n",
       "      <td>3000583041974</td>\n",
       "      <td>198.0</td>\n",
       "      <td>300050983403</td>\n",
       "      <td>Yes</td>\n",
       "      <td>Client Cancelled</td>\n",
       "    </tr>\n",
       "    <tr>\n",
       "      <th>1</th>\n",
       "      <td>20:57:32</td>\n",
       "      <td>-0.950385</td>\n",
       "      <td>51.456843</td>\n",
       "      <td>NaN</td>\n",
       "      <td>3000583116437</td>\n",
       "      <td>128.0</td>\n",
       "      <td>300050986179</td>\n",
       "      <td>No</td>\n",
       "      <td>Client Cancelled</td>\n",
       "    </tr>\n",
       "    <tr>\n",
       "      <th>2</th>\n",
       "      <td>20:57:32</td>\n",
       "      <td>-0.950385</td>\n",
       "      <td>51.456843</td>\n",
       "      <td>NaN</td>\n",
       "      <td>3000583116437</td>\n",
       "      <td>128.0</td>\n",
       "      <td>300050986174</td>\n",
       "      <td>No</td>\n",
       "      <td>Client Cancelled</td>\n",
       "    </tr>\n",
       "    <tr>\n",
       "      <th>3</th>\n",
       "      <td>20:57:32</td>\n",
       "      <td>-0.950385</td>\n",
       "      <td>51.456843</td>\n",
       "      <td>NaN</td>\n",
       "      <td>3000583116437</td>\n",
       "      <td>128.0</td>\n",
       "      <td>300050986180</td>\n",
       "      <td>No</td>\n",
       "      <td>Client Cancelled</td>\n",
       "    </tr>\n",
       "    <tr>\n",
       "      <th>4</th>\n",
       "      <td>12:07:50</td>\n",
       "      <td>-0.969520</td>\n",
       "      <td>51.455544</td>\n",
       "      <td>477.0</td>\n",
       "      <td>3000582891479</td>\n",
       "      <td>46.0</td>\n",
       "      <td>300050976275</td>\n",
       "      <td>Yes</td>\n",
       "      <td>Client Cancelled</td>\n",
       "    </tr>\n",
       "  </tbody>\n",
       "</table>\n",
       "</div>"
      ],
      "text/plain": [
       "  order_time  origin_longitude  origin_latitude  m_order_eta       order_gk  \\\n",
       "0   18:08:07         -0.978916        51.456173         60.0  3000583041974   \n",
       "1   20:57:32         -0.950385        51.456843          NaN  3000583116437   \n",
       "2   20:57:32         -0.950385        51.456843          NaN  3000583116437   \n",
       "3   20:57:32         -0.950385        51.456843          NaN  3000583116437   \n",
       "4   12:07:50         -0.969520        51.455544        477.0  3000582891479   \n",
       "\n",
       "   cancellations_time_in_seconds      offer_id is_driver_assigned  \\\n",
       "0                          198.0  300050983403                Yes   \n",
       "1                          128.0  300050986179                 No   \n",
       "2                          128.0  300050986174                 No   \n",
       "3                          128.0  300050986180                 No   \n",
       "4                           46.0  300050976275                Yes   \n",
       "\n",
       "       order_status  \n",
       "0  Client Cancelled  \n",
       "1  Client Cancelled  \n",
       "2  Client Cancelled  \n",
       "3  Client Cancelled  \n",
       "4  Client Cancelled  "
      ]
     },
     "execution_count": 17,
     "metadata": {},
     "output_type": "execute_result"
    }
   ],
   "source": [
    "# Display the first 5 rows of the refined DataFrame\n",
    "df.head()"
   ]
  },
  {
   "attachments": {},
   "cell_type": "markdown",
   "metadata": {},
   "source": [
    "At this point, the combined dataframe is ready for analysing."
   ]
  },
  {
   "cell_type": "markdown",
   "metadata": {},
   "source": [
    "<a id=\"datainsights\"></a>\n",
    "## Data Insights"
   ]
  },
  {
   "attachments": {},
   "cell_type": "markdown",
   "metadata": {},
   "source": [
    "<a id=\"Q1\"></a>\n",
    "### **Question 1**"
   ]
  },
  {
   "attachments": {},
   "cell_type": "markdown",
   "metadata": {},
   "source": [
    "**Build up distribution of orders according to reasons for failure: cancellations before and after driver assignment, and reasons for order rejection. Analyse the resulting plot. Which category has the highest number of orders?**\n",
    "\n",
    "To build a distribution based on two types of reasons for failure, a pivot table is recommended as each column has only 2 possible values. Therefore, 4 possible combinations of values can be generated. "
   ]
  },
  {
   "cell_type": "code",
   "execution_count": null,
   "metadata": {},
   "outputs": [
    {
     "data": {
      "text/plain": [
       "is_driver_assigned  order_status    \n",
       "No                  Client Cancelled    13435\n",
       "                    System Reject        9469\n",
       "Yes                 Client Cancelled     8360\n",
       "                    System Reject           4\n",
       "Name: order_gk, dtype: int64"
      ]
     },
     "execution_count": 19,
     "metadata": {},
     "output_type": "execute_result"
    }
   ],
   "source": [
    "df_gb1 = df.groupby(by=[\"is_driver_assigned\",\"order_status\"])[\"order_gk\"].count()\n",
    "df_gb1"
   ]
  },
  {
   "attachments": {},
   "cell_type": "markdown",
   "metadata": {},
   "source": [
    "It is clear that a higher number of cancelled orders happen before a driver is successfully assigned, indicating that highly due to long waiting time, customers decided on transportation alterantives. Specifically, `13435` orders were cancelled by client and `9469` by the system. There are `8360` orders cancelled by client and only `4` by the system after a driver was assigned. "
   ]
  },
  {
   "cell_type": "code",
   "execution_count": null,
   "metadata": {},
   "outputs": [
    {
     "data": {
      "image/png": "[encoded data removed]",
      "text/plain": [
       "<Figure size 1000x500 with 1 Axes>"
      ]
     },
     "metadata": {},
     "output_type": "display_data"
    }
   ],
   "source": [
    "_ = df_gb1.plot(kind=\"bar\", \n",
    "                       subplots=False,\n",
    "                       ylabel='Number of orders', \n",
    "                       xlabel='Failed Order Reason',\n",
    "                       title='Distribution of Failed Orders by Reason',\n",
    "                       color=['#FF9999', '#66B3FF'],\n",
    "                       figsize=(10, 5), \n",
    "                       legend=True, \n",
    "                       rot=0)"
   ]
  },
  {
   "attachments": {},
   "cell_type": "markdown",
   "metadata": {},
   "source": [
    "<a id=\"Q2\"></a>\n",
    "### **Question 2**"
   ]
  },
  {
   "attachments": {},
   "cell_type": "markdown",
   "metadata": {},
   "source": [
    "**Plot the distribution of failed orders by hours. Is there a trend that certain hours have an abnormally high proportion of one category or another? What hours are the biggest fails? How can this be explained?**\n",
    "\n",
    "As the question is focused on analysing the distribution of failed orders by hours, the hour number must be extracted from the `order_time` column firstly."
   ]
  },
  {
   "cell_type": "code",
   "execution_count": null,
   "metadata": {},
   "outputs": [
    {
     "data": {
      "text/plain": [
       "count        31268\n",
       "unique        7183\n",
       "top       23:36:03\n",
       "freq            24\n",
       "Name: order_time, dtype: object"
      ]
     },
     "execution_count": 27,
     "metadata": {},
     "output_type": "execute_result"
    }
   ],
   "source": [
    "# Statistics of the 'order_time' column\n",
    "df['order_time'].describe()"
   ]
  },
  {
   "attachments": {},
   "cell_type": "markdown",
   "metadata": {},
   "source": [
    "The current data type is Object and numbers are separated by `:`; therefore, we need to extract the first 2 numbers recognised as the hour."
   ]
  },
  {
   "cell_type": "code",
   "execution_count": 29,
   "metadata": {},
   "outputs": [],
   "source": [
    "# Extract the hour from the 'order_time' column\n",
    "df[\"order_hour\"] = df[\"order_time\"].str.split(\":\").apply(lambda split: split[0])"
   ]
  },
  {
   "cell_type": "code",
   "execution_count": 30,
   "metadata": {},
   "outputs": [
    {
     "data": {
      "text/html": [
       "<div>\n",
       "<style scoped>\n",
       "    .dataframe tbody tr th:only-of-type {\n",
       "        vertical-align: middle;\n",
       "    }\n",
       "\n",
       "    .dataframe tbody tr th {\n",
       "        vertical-align: top;\n",
       "    }\n",
       "\n",
       "    .dataframe thead th {\n",
       "        text-align: right;\n",
       "    }\n",
       "</style>\n",
       "<table border=\"1\" class=\"dataframe\">\n",
       "  <thead>\n",
       "    <tr style=\"text-align: right;\">\n",
       "      <th></th>\n",
       "      <th>order_time</th>\n",
       "      <th>order_hour</th>\n",
       "    </tr>\n",
       "  </thead>\n",
       "  <tbody>\n",
       "    <tr>\n",
       "      <th>0</th>\n",
       "      <td>18:08:07</td>\n",
       "      <td>18</td>\n",
       "    </tr>\n",
       "    <tr>\n",
       "      <th>1</th>\n",
       "      <td>20:57:32</td>\n",
       "      <td>20</td>\n",
       "    </tr>\n",
       "    <tr>\n",
       "      <th>2</th>\n",
       "      <td>20:57:32</td>\n",
       "      <td>20</td>\n",
       "    </tr>\n",
       "    <tr>\n",
       "      <th>3</th>\n",
       "      <td>20:57:32</td>\n",
       "      <td>20</td>\n",
       "    </tr>\n",
       "    <tr>\n",
       "      <th>4</th>\n",
       "      <td>12:07:50</td>\n",
       "      <td>12</td>\n",
       "    </tr>\n",
       "  </tbody>\n",
       "</table>\n",
       "</div>"
      ],
      "text/plain": [
       "  order_time order_hour\n",
       "0   18:08:07         18\n",
       "1   20:57:32         20\n",
       "2   20:57:32         20\n",
       "3   20:57:32         20\n",
       "4   12:07:50         12"
      ]
     },
     "execution_count": 30,
     "metadata": {},
     "output_type": "execute_result"
    }
   ],
   "source": [
    "# Display the first 5 rows of the DataFrame with the new 'order_hour' column\n",
    "df[[\"order_time\",\"order_hour\"]].head()"
   ]
  },
  {
   "cell_type": "code",
   "execution_count": 33,
   "metadata": {},
   "outputs": [
    {
     "data": {
      "image/png": "[encoded data removed]",
      "text/plain": [
       "<Figure size 1000x500 with 1 Axes>"
      ]
     },
     "metadata": {},
     "output_type": "display_data"
    }
   ],
   "source": [
    "# Plot the count of failed orders by hour of the day\n",
    "_ = df.groupby(by=\"order_hour\")[\"order_gk\"].count().plot(kind='bar',\n",
    "                                                         figsize=(10, 5), \n",
    "                                                         color=\"#FF9999\",\n",
    "                                                         legend=True,\n",
    "                                                         title=\"Number of Failed Orders by Hour of Day\")"
   ]
  },
  {
   "attachments": {},
   "cell_type": "markdown",
   "metadata": {},
   "source": [
    "From the bar chart above , it is seen that the biggest fails occurred at `8:00`,followed by `21:00` and `23:00`\n",
    "\n",
    "Failed orders are further investigated by hour by category, to obtain deeper insights into the cancelations by category."
   ]
  },
  {
   "cell_type": "code",
   "execution_count": null,
   "metadata": {},
   "outputs": [
    {
     "data": {
      "text/plain": [
       "order_hour  is_driver_assigned  order_status    \n",
       "00          No                  Client Cancelled    957\n",
       "                                System Reject       706\n",
       "            Yes                 Client Cancelled    326\n",
       "                                System Reject         4\n",
       "01          No                  Client Cancelled    633\n",
       "                                System Reject       374\n",
       "            Yes                 Client Cancelled    298\n",
       "02          No                  Client Cancelled    586\n",
       "                                System Reject       649\n",
       "            Yes                 Client Cancelled    240\n",
       "Name: order_gk, dtype: int64"
      ]
     },
     "execution_count": 35,
     "metadata": {},
     "output_type": "execute_result"
    }
   ],
   "source": [
    "# Group the DataFrame by 'order_hour', 'is_driver_assigned', and 'order_status' and count the number of orders\n",
    "df_gb2 = df.groupby(by=[\"order_hour\",\"is_driver_assigned\",\"order_status\"])[\"order_gk\"].count()\n",
    "df_gb2.head(10)"
   ]
  },
  {
   "cell_type": "code",
   "execution_count": null,
   "metadata": {},
   "outputs": [
    {
     "data": {
      "image/png": "[encoded data removed]",
      "text/plain": [
       "<Figure size 1000x500 with 1 Axes>"
      ]
     },
     "metadata": {},
     "output_type": "display_data"
    }
   ],
   "source": [
    "# Plot the count of failed orders by hour of the day, driver assignment status, and order status\n",
    "_ = df_gb2.reset_index().pivot(index=\"order_hour\",\n",
    "                            columns=[\"is_driver_assigned\", \"order_status\"],\n",
    "                            values=\"order_gk\").plot(kind=\"bar\",\n",
    "                                                    xticks=range(0, 24),\n",
    "                                                    figsize=(10, 5),\n",
    "                                                    width=0.8,\n",
    "                                                    xlabel=\"Hour of Day\",\n",
    "                                                    ylabel=\"Number of Failed Orders\",\n",
    "                                                    title=\"Number of Failed Orders Per Hour and Category\")"
   ]
  },
  {
   "cell_type": "markdown",
   "metadata": {},
   "source": [
    "#### **Key Insights:**\n",
    "\n",
    "**Peak Failure Hours**:\n",
    "\n",
    "- The highest number of failed orders occur around **_8 AM and 8–9 PM_**.\n",
    "\n",
    "- These may coincide with rush hours or times of high demand, possibly overwhelming the system or leading to higher cancellation rates.\n",
    "\n",
    "**Client Cancellations Dominate**:\n",
    "\n",
    "- For both `is_driver_assigned = No and Yes`, \"Client Cancelled\" orders are more frequent than \"System Reject\".\n",
    "\n",
    "- This suggests user behavior (perhaps long wait times or change of mind) is a major reason for failed orders.\n",
    "\n",
    "**No Driver Assigned = More Failures**:\n",
    "\n",
    "- Categories with `is_driver_assigned = No` consistently have more failed orders than those where a driver was assigned → a possible supply issue as not enough drivers are there to meet demand.\n",
    "\n",
    "**Early Morning Hours (1 AM – 6 AM)**:\n",
    "\n",
    "- The number of failed orders is significantly lower in early morning hours, which is expected due to lower order volume.\n",
    "\n",
    "**Similar Trends in Client Behavior**:\n",
    "\n",
    "- When a driver is assigned, client cancellations still occur in notable numbers (e.g., **_around 8 AM and 8 PM_**), meaning:\n",
    "\n",
    "    - Assignment of a driver doesn’t fully prevent client-side cancellations.\n",
    "\n",
    "    - May indicate issues like _delayed driver arrival, miscommunication, or last-minute plan changes_.\n",
    "\n",
    "**System Rejects**:\n",
    "\n",
    "- System rejects happen less often, but still visibly spike during high-demand times.\n",
    "\n",
    "- Could be related to _automated checks or platform limits_ (e.g., location restrictions, payment issues, etc.)."
   ]
  },
  {
   "attachments": {},
   "cell_type": "markdown",
   "metadata": {},
   "source": [
    "<a id=\"Q3\"></a>\n",
    "### **Question 3**"
   ]
  },
  {
   "cell_type": "markdown",
   "metadata": {},
   "source": [
    "**Plot the average time to cancellation with and without driver, by the hour. If there are any outliers in the data, it would be better to remove them. Can we draw any conclusions from this plot?**\n",
    "\n",
    "The same approach for the previous questions are also applied for Q3. The DataFrame will be grouped by the `order_hour` and `is_driver_assigned`, resulting in the average `cancellations_time_in_seconds` by the **_mean_** function."
   ]
  },
  {
   "cell_type": "code",
   "execution_count": null,
   "metadata": {},
   "outputs": [
    {
     "data": {
      "text/plain": [
       "order_hour  is_driver_assigned\n",
       "00          No                    115.126437\n",
       "            Yes                   276.082822\n",
       "01          No                    100.593997\n",
       "            Yes                   296.312081\n",
       "02          No                    121.305461\n",
       "            Yes                   301.466667\n",
       "03          No                    129.182301\n",
       "            Yes                   368.682051\n",
       "04          No                    100.733333\n",
       "            Yes                   245.250000\n",
       "Name: cancellations_time_in_seconds, dtype: float64"
      ]
     },
     "execution_count": 56,
     "metadata": {},
     "output_type": "execute_result"
    }
   ],
   "source": [
    "# Group the DataFrame by 'order_hour', 'is_driver_assigned' and calculate the mean of 'cancellations_time_in_seconds'\n",
    "df_gb3 = df.groupby(by=[\"order_hour\",\"is_driver_assigned\"])[\"cancellations_time_in_seconds\"].mean()\n",
    "df_gb3.head(10)"
   ]
  },
  {
   "cell_type": "code",
   "execution_count": 63,
   "metadata": {},
   "outputs": [
    {
     "data": {
      "image/png": "[encoded data removed]",
      "text/plain": [
       "<Figure size 1000x500 with 1 Axes>"
      ]
     },
     "metadata": {},
     "output_type": "display_data"
    }
   ],
   "source": [
    "# Plot the mean cancellation time by hour of the day and driver assignment status\n",
    "_ = df_gb3.reset_index().pivot(index=\"order_hour\",\n",
    "                               columns=\"is_driver_assigned\",\n",
    "                               values=\"cancellations_time_in_seconds\").plot(kind=\"bar\",\n",
    "                                                                           xticks=range(0, 24),\n",
    "                                                                           color=['#FF9999', '#66B3FF'],\n",
    "                                                                           figsize=(10, 5),\n",
    "                                                                           width=0.5,\n",
    "                                                                           xlabel=\"Hour of Day\",\n",
    "                                                                           ylabel=\"Mean Cancellation Time (seconds)\",\n",
    "                                                                           title=\"Averaage Cancellation Time Per Hour and Driver Assignment Status\")"
   ]
  },
  {
   "cell_type": "markdown",
   "metadata": {},
   "source": [
    "#### **Key Insights:**\n",
    "\n",
    "- Cancellations take longer when `is_driver_assigned = Yes`, likely because users wait and hope the ride will proceed.\n",
    "\n",
    "- Fastest cancellations occur when `is_driver_assigned = No`, often **_within 90–140 seconds_**.\n",
    "\n",
    "- Peak cancellation times (with driver) happen **_around 3 AM_**, possibly due to _low availability or delays_.\n",
    "\n",
    "- **_Afternoon hours (12–4 PM)_** show more stable and moderate cancellation times.\n",
    "\n",
    "- Behavior suggests _users are more patient when a driver is assigned_, especially during off-peak hours."
   ]
  },
  {
   "attachments": {},
   "cell_type": "markdown",
   "metadata": {},
   "source": [
    "<a id=\"Q4\"></a>\n",
    "### **Question 4**"
   ]
  },
  {
   "cell_type": "markdown",
   "metadata": {},
   "source": [
    "**Plot the distribution of average ETA by hours. How can this plot be explained?**\n",
    "\n",
    "The DataFrame will be grouped by the `order_hour`, resulting in the average `ETA` by the **_mean_** function."
   ]
  },
  {
   "cell_type": "code",
   "execution_count": 66,
   "metadata": {},
   "outputs": [
    {
     "data": {
      "image/png": "[encoded data removed]",
      "text/plain": [
       "<Figure size 1000x500 with 1 Axes>"
      ]
     },
     "metadata": {},
     "output_type": "display_data"
    }
   ],
   "source": [
    "_ = df.groupby(by=\"order_hour\")[\"m_order_eta\"].mean().plot(kind='bar',\n",
    "                                                   xticks=range(0, 24),\n",
    "                                                   color=['#66B3FF'],\n",
    "                                                   figsize=(10, 5),\n",
    "                                                   width=0.5,\n",
    "                                                   xlabel=\"Hour of Day\",\n",
    "                                                   ylabel='Mean ETA (seconds)',\n",
    "                                                   title=\"Average ETA Per Hour of Day\",\n",
    "                                                   legend=True)"
   ]
  },
  {
   "cell_type": "markdown",
   "metadata": {},
   "source": [
    "#### **Key Insights:**\n",
    "\n",
    "- Longest ETAs: **_Around 7–9 AM_**, likely due to _morning rush hour traffic_.\n",
    "\n",
    "- Shortest ETAs: **_Around 4–5 AM and 8–9 PM_**, when _roads are clearer_.\n",
    "\n",
    "- Midday ETAs: Stay moderately high, possibly due to _steady ride demand and moderate congestion_.\n",
    "\n",
    "- Overall trend: ETA _rises during peak traffic times and drops in off-peak hours_."
   ]
  },
  {
   "cell_type": "markdown",
   "metadata": {},
   "source": [
    "<a id=\"conclusions\"></a>\n",
    "## Conclusion"
   ]
  },
  {
   "cell_type": "markdown",
   "metadata": {},
   "source": [
    "A high number of clients cancelled their ride occured before a driver was assigned, possibly due to long wait and alterantive transport choices.\n",
    "\n",
    "It is evident that the highest failure rate occurred at **around _8:00_**, followed by **_from 21:00 to 23:00_**. And this evident accross all categories.\n",
    "\n",
    "The average time to cancellation is higher with an assigned driver than those without assigned driver for each hour without exception. Its peak was recored at **_around 3:00_**. \n",
    "\n",
    "Order cancellations were higher with increasing ETAs, with the highest ETAs happening at **_around 8:00_**."
   ]
  }
 ],
 "metadata": {
  "kernelspec": {
   "display_name": "base",
   "language": "python",
   "name": "python3"
  },
  "language_info": {
   "codemirror_mode": {
    "name": "ipython",
    "version": 3
   },
   "file_extension": ".py",
   "mimetype": "text/x-python",
   "name": "python",
   "nbconvert_exporter": "python",
   "pygments_lexer": "ipython3",
   "version": "3.9.16"
  },
  "orig_nbformat": 4,
  "vscode": {
   "interpreter": {
    "hash": "0621fa118fe95c332595f71061851d544636243730502c2e6e5b935c640e0892"
   }
  }
 },
 "nbformat": 4,
 "nbformat_minor": 2
}
